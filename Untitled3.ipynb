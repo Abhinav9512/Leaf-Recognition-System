{
  "nbformat": 4,
  "nbformat_minor": 0,
  "metadata": {
    "colab": {
      "name": "Untitled3.ipynb",
      "provenance": [],
      "collapsed_sections": [],
      "include_colab_link": true
    },
    "kernelspec": {
      "name": "python3",
      "display_name": "Python 3"
    },
    "language_info": {
      "name": "python"
    },
    "accelerator": "GPU"
  },
  "cells": [
    {
      "cell_type": "markdown",
      "metadata": {
        "id": "view-in-github",
        "colab_type": "text"
      },
      "source": [
        "<a href=\"https://colab.research.google.com/github/Abhinav9512/Leaf-Recognition-Model/blob/main/Untitled3.ipynb\" target=\"_parent\"><img src=\"https://colab.research.google.com/assets/colab-badge.svg\" alt=\"Open In Colab\"/></a>"
      ]
    },
    {
      "cell_type": "code",
      "metadata": {
        "colab": {
          "base_uri": "https://localhost:8080/"
        },
        "id": "TPAaNLoboQtg",
        "outputId": "57fdcc2c-43b4-49e6-8691-68ff279452c4"
      },
      "source": [
        "import tensorflow as tf\n",
        "from tensorflow.keras.layers import Input, Lambda, Dense, Flatten\n",
        "from tensorflow.keras.models import Model\n",
        "from tensorflow.keras.applications.inception_v3 import InceptionV3\n",
        "#from keras.applications.vgg16 import VGG16\n",
        "from tensorflow.keras.applications.inception_v3 import decode_predictions\n",
        "from tensorflow.keras.applications.inception_v3 import preprocess_input\n",
        "from tensorflow.keras.preprocessing import image\n",
        "from tensorflow.keras.preprocessing.image import ImageDataGenerator,load_img\n",
        "from tensorflow.keras.models import Sequential\n",
        "import matplotlib.pyplot as plt\n",
        "import os\n",
        "from os import listdir\n",
        "from PIL import Image as PImage\n",
        "import numpy as np\n",
        "from glob import glob\n",
        "import pandas as pd\n",
        "from google.colab import drive\n",
        "drive.mount('/content/drive')"
      ],
      "execution_count": null,
      "outputs": [
        {
          "output_type": "stream",
          "text": [
            "Mounted at /content/drive\n"
          ],
          "name": "stdout"
        }
      ]
    },
    {
      "cell_type": "code",
      "metadata": {
        "id": "4Yhhmd2Co-L9"
      },
      "source": [
        "img_width, img_height = 256, 256\n",
        "batch_size = 2\n",
        "train_path = '/content/drive/My Drive/dataset/images/field'"
      ],
      "execution_count": null,
      "outputs": []
    },
    {
      "cell_type": "code",
      "metadata": {
        "id": "OxvVho5MpDE2",
        "colab": {
          "base_uri": "https://localhost:8080/"
        },
        "outputId": "4eed0d1c-1b0d-4c43-d813-339d1e3b2089"
      },
      "source": [
        "inception = InceptionV3(input_shape=(img_height, img_width, 3), weights='imagenet', include_top=False)"
      ],
      "execution_count": null,
      "outputs": [
        {
          "output_type": "stream",
          "text": [
            "Downloading data from https://storage.googleapis.com/tensorflow/keras-applications/inception_v3/inception_v3_weights_tf_dim_ordering_tf_kernels_notop.h5\n",
            "87916544/87910968 [==============================] - 1s 0us/step\n"
          ],
          "name": "stdout"
        }
      ]
    },
    {
      "cell_type": "code",
      "metadata": {
        "id": "fpBe8vZNpGzb"
      },
      "source": [
        "for layer in inception.layers:\n",
        "    layer.trainable = False"
      ],
      "execution_count": null,
      "outputs": []
    },
    {
      "cell_type": "code",
      "metadata": {
        "id": "JAlz1KzDpKHD"
      },
      "source": [
        "folders = glob('/content/drive/My Drive/dataset/images/field/*')"
      ],
      "execution_count": null,
      "outputs": []
    },
    {
      "cell_type": "code",
      "metadata": {
        "id": "fvxQ1ryKpNyz"
      },
      "source": [
        "x = Flatten()(inception.output)"
      ],
      "execution_count": null,
      "outputs": []
    },
    {
      "cell_type": "code",
      "metadata": {
        "id": "hTp1PPhepQfo"
      },
      "source": [
        "prediction = Dense(len(folders), activation='softmax')(x)\n",
        "\n",
        "# create a model object\n",
        "model = Model(inputs=inception.input, outputs=prediction)"
      ],
      "execution_count": null,
      "outputs": []
    },
    {
      "cell_type": "code",
      "metadata": {
        "id": "txAA0WtZpTbR"
      },
      "source": [
        "model.summary()"
      ],
      "execution_count": null,
      "outputs": []
    },
    {
      "cell_type": "code",
      "metadata": {
        "id": "ZgP9aUjWpYR2"
      },
      "source": [
        "model.compile(\n",
        "  loss='categorical_crossentropy',\n",
        "  optimizer='adam',\n",
        "  metrics=['accuracy']\n",
        ")"
      ],
      "execution_count": null,
      "outputs": []
    },
    {
      "cell_type": "code",
      "metadata": {
        "colab": {
          "base_uri": "https://localhost:8080/"
        },
        "id": "yYfwENiapfLZ",
        "outputId": "cb96cf60-7035-4977-df61-451820dff600"
      },
      "source": [
        "ds_train = tf.keras.preprocessing.image_dataset_from_directory(\n",
        "    \"/content/drive/My Drive/dataset/images/field/\",\n",
        "    labels=\"inferred\",\n",
        "    label_mode=\"categorical\", \n",
        "    batch_size=batch_size,\n",
        "    shuffle=True,\n",
        "    seed=123,\n",
        "    validation_split=0.2,\n",
        "    subset=\"training\",\n",
        ")"
      ],
      "execution_count": null,
      "outputs": [
        {
          "output_type": "stream",
          "text": [
            "Found 987 files belonging to 21 classes.\n",
            "Using 790 files for training.\n"
          ],
          "name": "stdout"
        }
      ]
    },
    {
      "cell_type": "code",
      "metadata": {
        "colab": {
          "base_uri": "https://localhost:8080/"
        },
        "id": "wbZ8N64WqI7c",
        "outputId": "523c0418-954c-4cb0-dcb3-41ff7e61d6be"
      },
      "source": [
        "ds_validation = tf.keras.preprocessing.image_dataset_from_directory(\n",
        "    \"/content/drive/My Drive/dataset/images/field/\",\n",
        "    labels=\"inferred\",\n",
        "    label_mode=\"categorical\",  \n",
        "    batch_size=batch_size, \n",
        "    shuffle=True,\n",
        "    seed=123,\n",
        "    validation_split=0.2,\n",
        "    subset=\"validation\",\n",
        ")"
      ],
      "execution_count": null,
      "outputs": [
        {
          "output_type": "stream",
          "text": [
            "Found 987 files belonging to 21 classes.\n",
            "Using 197 files for validation.\n"
          ],
          "name": "stdout"
        }
      ]
    },
    {
      "cell_type": "code",
      "metadata": {
        "colab": {
          "base_uri": "https://localhost:8080/"
        },
        "id": "zZNyRlZjqMsf",
        "outputId": "f3ace363-ec0f-4bad-97d2-f7282de48cd2"
      },
      "source": [
        "r = model.fit_generator(\n",
        "  ds_train,\n",
        "  validation_data=ds_validation,\n",
        "  epochs=5,\n",
        "  steps_per_epoch=len(ds_train),\n",
        "  validation_steps=len(ds_validation)\n",
        ")"
      ],
      "execution_count": null,
      "outputs": [
        {
          "output_type": "stream",
          "text": [
            "/usr/local/lib/python3.7/dist-packages/tensorflow/python/keras/engine/training.py:1940: UserWarning: `Model.fit_generator` is deprecated and will be removed in a future version. Please use `Model.fit`, which supports generators.\n",
            "  warnings.warn('`Model.fit_generator` is deprecated and '\n"
          ],
          "name": "stderr"
        },
        {
          "output_type": "stream",
          "text": [
            "Epoch 1/5\n",
            "395/395 [==============================] - 171s 414ms/step - loss: 510.8294 - accuracy: 0.4329 - val_loss: 395.0238 - val_accuracy: 0.5178\n",
            "Epoch 2/5\n",
            "395/395 [==============================] - 11s 28ms/step - loss: 241.1014 - accuracy: 0.6696 - val_loss: 360.2110 - val_accuracy: 0.6548\n",
            "Epoch 3/5\n",
            "395/395 [==============================] - 11s 28ms/step - loss: 216.6509 - accuracy: 0.7329 - val_loss: 318.7912 - val_accuracy: 0.6599\n",
            "Epoch 4/5\n",
            "395/395 [==============================] - 11s 27ms/step - loss: 118.6002 - accuracy: 0.8367 - val_loss: 175.7864 - val_accuracy: 0.7665\n",
            "Epoch 5/5\n",
            "395/395 [==============================] - 11s 27ms/step - loss: 110.9879 - accuracy: 0.8342 - val_loss: 169.8873 - val_accuracy: 0.8071\n"
          ],
          "name": "stdout"
        }
      ]
    },
    {
      "cell_type": "code",
      "metadata": {
        "colab": {
          "base_uri": "https://localhost:8080/",
          "height": 531
        },
        "id": "7HveGTdp2W4R",
        "outputId": "de182e0b-c1a4-4b71-c9c6-3e893d0362de"
      },
      "source": [
        "plt.plot(r.history['loss'], label='train loss')\n",
        "plt.plot(r.history['val_loss'], label='val loss')\n",
        "plt.legend()\n",
        "plt.show()\n",
        "plt.savefig('LossVal_loss')\n",
        "\n",
        "# plot the accuracy\n",
        "plt.plot(r.history['accuracy'], label='train acc')\n",
        "plt.plot(r.history['val_accuracy'], label='val acc')\n",
        "plt.legend()\n",
        "plt.show()\n",
        "plt.savefig('AccVal_acc')"
      ],
      "execution_count": null,
      "outputs": [
        {
          "output_type": "display_data",
          "data": {
            "image/png": "[encoded data removed]",
            "text/plain": [
              "<Figure size 432x288 with 1 Axes>"
            ]
          },
          "metadata": {
            "tags": [],
            "needs_background": "light"
          }
        },
        {
          "output_type": "display_data",
          "data": {
            "image/png": "[encoded data removed]",
            "text/plain": [
              "<Figure size 432x288 with 1 Axes>"
            ]
          },
          "metadata": {
            "tags": [],
            "needs_background": "light"
          }
        },
        {
          "output_type": "display_data",
          "data": {
            "text/plain": [
              "<Figure size 432x288 with 0 Axes>"
            ]
          },
          "metadata": {
            "tags": []
          }
        }
      ]
    },
    {
      "cell_type": "code",
      "metadata": {
        "colab": {
          "base_uri": "https://localhost:8080/"
        },
        "id": "zyAaYnGCcDmj",
        "outputId": "6bc6f4f6-0195-41d1-f937-7e06811cd28f"
      },
      "source": [
        "model.save('InceptionV3-CNN.model')"
      ],
      "execution_count": null,
      "outputs": [
        {
          "output_type": "stream",
          "text": [
            "INFO:tensorflow:Assets written to: InceptionV3-CNN.model/assets\n"
          ],
          "name": "stdout"
        }
      ]
    },
    {
      "cell_type": "code",
      "metadata": {
        "id": "44TB7zY_dwk9"
      },
      "source": [
        "model = tf.keras.models.load_model(\"InceptionV3-CNN.model\")"
      ],
      "execution_count": null,
      "outputs": []
    },
    {
      "cell_type": "code",
      "metadata": {
        "id": "Jam05wDWd4-5"
      },
      "source": [
        "import cv2\n",
        "CATEGORIES = [\"acer_palmatum\", \"betula_lenta\" ,\"cedrus_libani\",\"diospyros_virginiana\",\"evodia_danielli\",\"ficus_carica\",\"ilex_opaca\",\"juglans_nigra\",\"koelreuteria_paniculata\",\"larix_decidua\",\"malus_pumila\",\"nyssa_sylvatica\",\"ostrya_virginiana\",\"pinus_taeda\",\"quercus_palustris\",\"robinia_pseudo-acacia\", \"styrax_japonica\",\"tonna_sinensis\",\"ulmus_pumila\", \"zelkova_serrata\"]  # will use this to convert prediction num to string value\n",
        "\n"
      ],
      "execution_count": null,
      "outputs": []
    },
    {
      "cell_type": "code",
      "metadata": {
        "id": "TgSkRhUf1j3j"
      },
      "source": [
        "filepath='/content/drive/My Drive/dataset/images/field/ulmus_pumila/13291724500056.jpg'\n",
        "\n",
        "IMG_SIZE = 256  # 50 in txt-based\n",
        "img_array = cv2.imread(filepath)  # read in the image, convert to grayscale\n",
        "new_array = cv2.resize(img_array, (IMG_SIZE, IMG_SIZE))  # resize image to match model's expected sizing\n",
        "# new_array.reshape(-1, IMG_SIZE, IMG_SIZE, 1)\n",
        "new_array= np.reshape(new_array, (-1, IMG_SIZE, IMG_SIZE, 3))\n",
        "# print(new_array)"
      ],
      "execution_count": null,
      "outputs": []
    },
    {
      "cell_type": "code",
      "metadata": {
        "id": "5SbsuNL20brI"
      },
      "source": [
        "prediction = model.predict(new_array)\n",
        "\n",
        "print(prediction)\n",
        "\n",
        "print(prediction[0][0])\n",
        "\n",
        "print(int(prediction[0][0]))\n",
        "\n",
        "# print(CATEGORIES[int(prediction[0][0])])\n",
        "print(CATEGORIES[int(np.argmax(prediction[0]))])"
      ],
      "execution_count": null,
      "outputs": []
    },
    {
      "cell_type": "code",
      "metadata": {
        "colab": {
          "base_uri": "https://localhost:8080/",
          "height": 68
        },
        "id": "3eKQabIRIxRr",
        "outputId": "16421ddb-e114-4df5-f823-0e21c52cc13d"
      },
      "source": [
        "model = tf.keras.models.load_model(\"InceptionV3-CNN.model\")\n",
        "\n",
        "converter = tf.lite.TFLiteConverter.from_keras_model(model)\n",
        "tflite_model = converter.convert()\n",
        "\n",
        "print(\"model converted\")\n",
        "\n",
        "# Save the model.\n",
        "with open('model.tflite', 'wb') as f:\n",
        "  f.write(tflite_model)\n",
        "\n",
        "from google.colab import files\n",
        "files.download('model.tflite')"
      ],
      "execution_count": null,
      "outputs": [
        {
          "output_type": "stream",
          "text": [
            "INFO:tensorflow:Assets written to: /tmp/tmponv92mvf/assets\n",
            "model converted\n"
          ],
          "name": "stdout"
        },
        {
          "output_type": "display_data",
          "data": {
            "application/javascript": [
              "\n",
              "    async function download(id, filename, size) {\n",
              "      if (!google.colab.kernel.accessAllowed) {\n",
              "        return;\n",
              "      }\n",
              "      const div = document.createElement('div');\n",
              "      const label = document.createElement('label');\n",
              "      label.textContent = `Downloading \"${filename}\": `;\n",
              "      div.appendChild(label);\n",
              "      const progress = document.createElement('progress');\n",
              "      progress.max = size;\n",
              "      div.appendChild(progress);\n",
              "      document.body.appendChild(div);\n",
              "\n",
              "      const buffers = [];\n",
              "      let downloaded = 0;\n",
              "\n",
              "      const channel = await google.colab.kernel.comms.open(id);\n",
              "      // Send a message to notify the kernel that we're ready.\n",
              "      channel.send({})\n",
              "\n",
              "      for await (const message of channel.messages) {\n",
              "        // Send a message to notify the kernel that we're ready.\n",
              "        channel.send({})\n",
              "        if (message.buffers) {\n",
              "          for (const buffer of message.buffers) {\n",
              "            buffers.push(buffer);\n",
              "            downloaded += buffer.byteLength;\n",
              "            progress.value = downloaded;\n",
              "          }\n",
              "        }\n",
              "      }\n",
              "      const blob = new Blob(buffers, {type: 'application/binary'});\n",
              "      const a = document.createElement('a');\n",
              "      a.href = window.URL.createObjectURL(blob);\n",
              "      a.download = filename;\n",
              "      div.appendChild(a);\n",
              "      a.click();\n",
              "      div.remove();\n",
              "    }\n",
              "  "
            ],
            "text/plain": [
              "<IPython.core.display.Javascript object>"
            ]
          },
          "metadata": {
            "tags": []
          }
        },
        {
          "output_type": "display_data",
          "data": {
            "application/javascript": [
              "download(\"download_c761fe34-48c8-4105-a443-ae0e0e61070d\", \"model.tflite\", 93319232)"
            ],
            "text/plain": [
              "<IPython.core.display.Javascript object>"
            ]
          },
          "metadata": {
            "tags": []
          }
        }
      ]
    }
  ]
}